{
 "cells": [
  {
   "cell_type": "code",
   "execution_count": 12,
   "id": "44130877",
   "metadata": {},
   "outputs": [],
   "source": [
    "from neo4j import GraphDatabase\n",
    "import os"
   ]
  },
  {
   "cell_type": "code",
   "execution_count": 13,
   "id": "53a5d38e",
   "metadata": {},
   "outputs": [],
   "source": [
    "GRAPH_DB_CREDS = {\n",
    "    \"HOST\":os.environ['NEO4J_HOST'],\n",
    "    \"USER\" :  os.environ['NEO4J_USER'],\n",
    "    \"PASSWORD\": os.environ['NEO4J_PASSWORD']\n",
    "}"
   ]
  },
  {
   "cell_type": "code",
   "execution_count": 14,
   "id": "2daed4e6",
   "metadata": {},
   "outputs": [],
   "source": [
    "class Neo:\n",
    "    def __init__(self, uri, user, password):\n",
    "        self.driver = GraphDatabase.driver(uri, auth=(user, password))\n",
    "        self.session = self.driver.session()\n",
    "\n",
    "\n",
    "    def close(self):\n",
    "        self.driver.close()\n",
    "\n",
    "    def run_read(self, fx_name, **kwargs):\n",
    "        results = None\n",
    "        session = self.driver.session()\n",
    "        results = session.read_transaction(fx_name, **kwargs)\n",
    "        return results\n",
    "\n",
    "    def run_write(self, fx_name, **kwargs):\n",
    "        results = None\n",
    "        session = self.driver.session()\n",
    "        results = session.write_transaction(fx_name, **kwargs)\n",
    "        return results\n",
    "\n",
    "    def run_mult(self, queries, **kwargs):\n",
    "        tx = self.driver.session().begin_transaction()\n",
    "        try:\n",
    "            for query in queries:\n",
    "                result = tx.run(query)\n",
    "                print(result.data())\n",
    "            tx.commit()\n",
    "        except Exception as ex:\n",
    "            tx.rollback()\n",
    "            print(\"couldn't run the command\")\n",
    "            print(ex)\n",
    "        tx.close()\n",
    "\n",
    "    def run_query(self, query, **kwargs):   \n",
    "#         data = None\n",
    "        try:\n",
    "            tx = self.session.begin_transaction(timeout=300)\n",
    "            result = tx.run(query, **kwargs)\n",
    "            data = result.to_df()\n",
    "            tx.commit()\n",
    "            tx.close()\n",
    "            return data\n",
    "        except Exception as ex:\n",
    "            print(\"couldn't run the command\")\n",
    "            print(ex)\n",
    "            print(query)\n",
    "            return query\n",
    "\n",
    "    \n",
    "    def run_query_graph(self, query, **kwargs):   \n",
    "#         data = None\n",
    "        try:\n",
    "            tx = self.session.begin_transaction(timeout=300)\n",
    "            result = tx.run(query, **kwargs)\n",
    "            return result, tx\n",
    "        except Exception as ex:\n",
    "            print(\"couldn't run the command\")\n",
    "            print(ex)\n",
    "            print(query)\n",
    "            return query\n",
    "    \n",
    "    def run_queries(self, queries, **kwargs):\n",
    "        count = 1\n",
    "        for q in queries:\n",
    "            try:\n",
    "                print(f\"pushing company no. {count}\")\n",
    "                self.session.run(q)\n",
    "            except Exception as ex:\n",
    "                print(\"couldn't run the command\")\n",
    "                print(ex)\n",
    "                print(q)\n",
    "            count += 1\n",
    "        print(f\"Ran total queries: {len(queries)}\")"
   ]
  },
  {
   "cell_type": "code",
   "execution_count": 15,
   "id": "280fd637",
   "metadata": {},
   "outputs": [],
   "source": [
    "db = Neo(GRAPH_DB_CREDS[\"HOST\"],GRAPH_DB_CREDS[\"USER\"], GRAPH_DB_CREDS[\"PASSWORD\"])"
   ]
  },
  {
   "cell_type": "code",
   "execution_count": 16,
   "id": "cee4118e",
   "metadata": {},
   "outputs": [],
   "source": [
    "result, tx = db.run_query_graph(\"MATCH (n:audio)-[r:HAS_SIMILARITY]-(n1:audio) where n.name=$name return n,r,n1 limit 50\", \n",
    "                      name=\"120_Ben Böhmer - Autumn.mp3.wav\")"
   ]
  },
  {
   "cell_type": "code",
   "execution_count": 17,
   "id": "e15f98d9",
   "metadata": {},
   "outputs": [],
   "source": [
    "from yfiles_jupyter_graphs import GraphWidget"
   ]
  },
  {
   "cell_type": "code",
   "execution_count": 18,
   "id": "df6241e5",
   "metadata": {},
   "outputs": [
    {
     "data": {
      "application/vnd.jupyter.widget-view+json": {
       "model_id": "51352d436e064cfe8c48be8c517d23a7",
       "version_major": 2,
       "version_minor": 0
      },
      "text/plain": [
       "GraphWidget(layout=Layout(height='500px', width='100%'))"
      ]
     },
     "metadata": {},
     "output_type": "display_data"
    }
   ],
   "source": [
    "GraphWidget(graph=result.graph())"
   ]
  },
  {
   "cell_type": "code",
   "execution_count": null,
   "id": "a14dfe27",
   "metadata": {},
   "outputs": [],
   "source": []
  }
 ],
 "metadata": {
  "kernelspec": {
   "display_name": "Python 3 (ipykernel)",
   "language": "python",
   "name": "python3"
  },
  "language_info": {
   "codemirror_mode": {
    "name": "ipython",
    "version": 3
   },
   "file_extension": ".py",
   "mimetype": "text/x-python",
   "name": "python",
   "nbconvert_exporter": "python",
   "pygments_lexer": "ipython3",
   "version": "3.10.0"
  }
 },
 "nbformat": 4,
 "nbformat_minor": 5
}
